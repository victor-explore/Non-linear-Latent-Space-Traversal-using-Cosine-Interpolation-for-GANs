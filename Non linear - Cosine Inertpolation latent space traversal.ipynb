{
 "cells": [
  {
   "cell_type": "markdown",
   "metadata": {},
   "source": [
    "# Non linear(Cosine Interpolation) latent space traversal"
   ]
  },
  {
   "cell_type": "markdown",
   "metadata": {},
   "source": [
    "The formula for cosine interpolation between two values $a$ and $b$, with $t$ ranging from 0 to 1, is:\n",
    "\n",
    "$$f(t) = a + (b - a) * (1 - \\cos(\\pi * t)) / 2$$\n",
    "\n",
    "This formula creates a smooth S-curve transition, accelerating at the beginning and decelerating at the end, resulting in more visually pleasing interpolations in latent space."
   ]
  },
  {
   "cell_type": "code",
   "execution_count": null,
   "metadata": {},
   "outputs": [],
   "source": [
    "# Define the arguments for Linear Latent Space Traversal\n",
    "# generator = Instance of the GAN generator model"
   ]
  },
  {
   "cell_type": "code",
   "execution_count": null,
   "metadata": {},
   "outputs": [],
   "source": [
    "def cosine_latent_space_traversal(generator, start_vector, end_vector, num_samples):\n",
    "    generated_images = []  # List to store generated images\n",
    "    device = next(generator.parameters()).device  # Get the device of the generator\n",
    "\n",
    "    for t in torch.linspace(0, 1, num_samples):  # Create evenly spaced points between 0 and 1\n",
    "        # Cosine interpolation formula\n",
    "        interpolated_vector = start_vector + (end_vector - start_vector) * (1 - torch.cos(torch.pi * t)) / 2  # Perform cosine interpolation between start and end vectors\n",
    "        \n",
    "        # Ensure the interpolated vector has the correct shape (1, 100, 1, 1)\n",
    "        interpolated_vector = interpolated_vector.view(1, 100, 1, 1).to(device)  # Reshape and move to correct device\n",
    "        \n",
    "        # Generate image from the interpolated vector\n",
    "        with torch.no_grad():  # Disable gradient calculation for inference\n",
    "            generated_image = generator(interpolated_vector)  # Generate image using the interpolated vector\n",
    "        \n",
    "        generated_images.append(generated_image)  # Add the generated image to the list\n",
    "\n",
    "    # Stack all generated images into a single tensor\n",
    "    return torch.cat(generated_images, dim=0)  # Return tensor of generated images"
   ]
  },
  {
   "cell_type": "code",
   "execution_count": null,
   "metadata": {},
   "outputs": [],
   "source": [
    "# Generate random start and end vectors\n",
    "start_vector = torch.randn(1, 100, 1, 1)  # Random start vector with shape (1, 100, 1, 1)\n",
    "end_vector = torch.randn(1, 100, 1, 1)  # Random end vector with shape (1, 100, 1, 1)\n",
    "num_samples = 30"
   ]
  },
  {
   "cell_type": "code",
   "execution_count": null,
   "metadata": {},
   "outputs": [],
   "source": [
    "# Test the cosine interpolation function\n",
    "cosine_traversal_images = cosine_latent_space_traversal(generator, start_vector, end_vector, num_samples)  # Generate images using cosine interpolation\n",
    "\n",
    "# Display the generated images from cosine interpolation\n",
    "plt.figure(figsize=(20, 4))  # Create a new figure with specified size\n",
    "for i in range(num_samples):  # Iterate through each generated image\n",
    "    plt.subplot(1, num_samples, i + 1)  # Create a subplot for each image\n",
    "    img = (cosine_traversal_images[i].squeeze().permute(1, 2, 0).cpu().numpy() + 1) / 2  # Denormalize the image\n",
    "    plt.imshow(img)  # Display the image\n",
    "    plt.axis('off')  # Turn off axis labels\n",
    "plt.tight_layout()  # Adjust the layout to prevent overlap\n",
    "plt.show()  # Display the plot"
   ]
  }
 ],
 "metadata": {
  "kernelspec": {
   "display_name": "ForADRL",
   "language": "python",
   "name": "python3"
  },
  "language_info": {
   "name": "python",
   "version": "3.12.3"
  }
 },
 "nbformat": 4,
 "nbformat_minor": 2
}
